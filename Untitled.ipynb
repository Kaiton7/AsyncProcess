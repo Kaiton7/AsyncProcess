{
 "cells": [
  {
   "cell_type": "code",
   "execution_count": 1,
   "metadata": {},
   "outputs": [],
   "source": [
    "import csv\n",
    "import urllib\n",
    "from bs4 import BeautifulSoup"
   ]
  },
  {
   "cell_type": "code",
   "execution_count": 2,
   "metadata": {},
   "outputs": [],
   "source": [
    "url = \"https://en.wikipedia.org/wiki/List_of_cities_in_Japan\"\n",
    "html = urllib.request.urlopen(url)\n",
    "soup = BeautifulSoup(html, 'html.parser')\n",
    "table = soup.find_all(\"table\")"
   ]
  },
  {
   "cell_type": "code",
   "execution_count": 3,
   "metadata": {},
   "outputs": [],
   "source": [
    "for tab in table:\n",
    "    table_className = tab.get(\"class\")\n",
    "    if table_className[0] == \"wikitable\":\n",
    "        with open(\"test.csv\", \"w\", encoding='utf-8') as file:\n",
    "            writer = csv.writer(file)\n",
    "            rows = tab.find_all(\"tr\")\n",
    "            for row in rows:\n",
    "                csvRow = []\n",
    "                for cell in row.findAll(['td', 'th']):\n",
    "                    csvRow.append(cell.get_text())\n",
    "                writer.writerow(csvRow)\n",
    "        break"
   ]
  },
  {
   "cell_type": "code",
   "execution_count": null,
   "metadata": {},
   "outputs": [],
   "source": []
  }
 ],
 "metadata": {
  "kernelspec": {
   "display_name": "Python 3",
   "language": "python",
   "name": "python3"
  },
  "language_info": {
   "codemirror_mode": {
    "name": "ipython",
    "version": 3
   },
   "file_extension": ".py",
   "mimetype": "text/x-python",
   "name": "python",
   "nbconvert_exporter": "python",
   "pygments_lexer": "ipython3",
   "version": "3.8.10"
  }
 },
 "nbformat": 4,
 "nbformat_minor": 4
}
